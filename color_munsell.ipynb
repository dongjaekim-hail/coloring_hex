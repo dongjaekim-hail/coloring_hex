{
  "nbformat": 4,
  "nbformat_minor": 0,
  "metadata": {
    "colab": {
      "provenance": [],
      "authorship_tag": "ABX9TyOXhfHwGnKfXZKp46KISVbP",
      "include_colab_link": true
    },
    "kernelspec": {
      "name": "python3",
      "display_name": "Python 3"
    },
    "language_info": {
      "name": "python"
    }
  },
  "cells": [
    {
      "cell_type": "markdown",
      "metadata": {
        "id": "view-in-github",
        "colab_type": "text"
      },
      "source": [
        "<a href=\"https://colab.research.google.com/github/dongjaekim-hail/coloring_hex/blob/main/color_munsell.ipynb\" target=\"_parent\"><img src=\"https://colab.research.google.com/assets/colab-badge.svg\" alt=\"Open In Colab\"/></a>"
      ]
    },
    {
      "cell_type": "code",
      "metadata": {
        "id": "cxHd5JoNi026",
        "colab": {
          "base_uri": "https://localhost:8080/"
        },
        "outputId": "f7e3e652-2ba4-4f44-ee18-0f8b9111601e"
      },
      "source": [
        "%env COLOUR_SCIENCE__COLOUR__IMPORT_VAAB_COLOUR=true\n",
        "!pip install -q colour-science\n",
        "\n",
        "# Uncomment the following lines for the latest develop branch content.\n",
        "!pip uninstall -y colour-science\n",
        "!if ! [ -d \"colour\" ]; then git clone https://github.com/colour-science/colour; fi\n",
        "!if [ -d \"colour\" ]; then cd colour && git fetch && git checkout develop && git pull && cd ..; fi\n",
        "\n",
        "import sys\n",
        "sys.path.insert(0, 'colour')"
      ],
      "execution_count": 1,
      "outputs": [
        {
          "output_type": "stream",
          "name": "stdout",
          "text": [
            "env: COLOUR_SCIENCE__COLOUR__IMPORT_VAAB_COLOUR=true\n",
            "\u001b[2K     \u001b[90m━━━━━━━━━━━━━━━━━━━━━━━━━━━━━━━━━━━━━━━━\u001b[0m \u001b[32m54.5/54.5 kB\u001b[0m \u001b[31m2.0 MB/s\u001b[0m eta \u001b[36m0:00:00\u001b[0m\n",
            "\u001b[2K   \u001b[90m━━━━━━━━━━━━━━━━━━━━━━━━━━━━━━━━━━━━━━━━\u001b[0m \u001b[32m2.5/2.5 MB\u001b[0m \u001b[31m36.2 MB/s\u001b[0m eta \u001b[36m0:00:00\u001b[0m\n",
            "\u001b[?25hFound existing installation: colour-science 0.4.6\n",
            "Uninstalling colour-science-0.4.6:\n",
            "  Successfully uninstalled colour-science-0.4.6\n",
            "Cloning into 'colour'...\n",
            "remote: Enumerating objects: 70703, done.\u001b[K\n",
            "remote: Counting objects: 100% (6627/6627), done.\u001b[K\n",
            "remote: Compressing objects: 100% (2390/2390), done.\u001b[K\n",
            "remote: Total 70703 (delta 5030), reused 5514 (delta 4203), pack-reused 64076 (from 1)\u001b[K\n",
            "Receiving objects: 100% (70703/70703), 125.79 MiB | 19.58 MiB/s, done.\n",
            "Resolving deltas: 100% (54895/54895), done.\n",
            "Already on 'develop'\n",
            "Your branch is up to date with 'origin/develop'.\n",
            "Already up to date.\n"
          ]
        }
      ]
    },
    {
      "cell_type": "code",
      "execution_count": 2,
      "metadata": {
        "colab": {
          "base_uri": "https://localhost:8080/"
        },
        "id": "O9mSl1JKUKgt",
        "outputId": "ee970bd0-f9a1-4710-913c-559394a43a7a"
      },
      "outputs": [
        {
          "output_type": "stream",
          "name": "stdout",
          "text": [
            "Cloning into 'munspace'...\n",
            "remote: Enumerating objects: 46, done.\u001b[K\n",
            "remote: Counting objects:   2% (1/46)\u001b[K\rremote: Counting objects:   4% (2/46)\u001b[K\rremote: Counting objects:   6% (3/46)\u001b[K\rremote: Counting objects:   8% (4/46)\u001b[K\rremote: Counting objects:  10% (5/46)\u001b[K\rremote: Counting objects:  13% (6/46)\u001b[K\rremote: Counting objects:  15% (7/46)\u001b[K\rremote: Counting objects:  17% (8/46)\u001b[K\rremote: Counting objects:  19% (9/46)\u001b[K\rremote: Counting objects:  21% (10/46)\u001b[K\rremote: Counting objects:  23% (11/46)\u001b[K\rremote: Counting objects:  26% (12/46)\u001b[K\rremote: Counting objects:  28% (13/46)\u001b[K\rremote: Counting objects:  30% (14/46)\u001b[K\rremote: Counting objects:  32% (15/46)\u001b[K\rremote: Counting objects:  34% (16/46)\u001b[K\rremote: Counting objects:  36% (17/46)\u001b[K\rremote: Counting objects:  39% (18/46)\u001b[K\rremote: Counting objects:  41% (19/46)\u001b[K\rremote: Counting objects:  43% (20/46)\u001b[K\rremote: Counting objects:  45% (21/46)\u001b[K\rremote: Counting objects:  47% (22/46)\u001b[K\rremote: Counting objects:  50% (23/46)\u001b[K\rremote: Counting objects:  52% (24/46)\u001b[K\rremote: Counting objects:  54% (25/46)\u001b[K\rremote: Counting objects:  56% (26/46)\u001b[K\rremote: Counting objects:  58% (27/46)\u001b[K\rremote: Counting objects:  60% (28/46)\u001b[K\rremote: Counting objects:  63% (29/46)\u001b[K\rremote: Counting objects:  65% (30/46)\u001b[K\rremote: Counting objects:  67% (31/46)\u001b[K\rremote: Counting objects:  69% (32/46)\u001b[K\rremote: Counting objects:  71% (33/46)\u001b[K\rremote: Counting objects:  73% (34/46)\u001b[K\rremote: Counting objects:  76% (35/46)\u001b[K\rremote: Counting objects:  78% (36/46)\u001b[K\rremote: Counting objects:  80% (37/46)\u001b[K\rremote: Counting objects:  82% (38/46)\u001b[K\rremote: Counting objects:  84% (39/46)\u001b[K\rremote: Counting objects:  86% (40/46)\u001b[K\rremote: Counting objects:  89% (41/46)\u001b[K\rremote: Counting objects:  91% (42/46)\u001b[K\rremote: Counting objects:  93% (43/46)\u001b[K\rremote: Counting objects:  95% (44/46)\u001b[K\rremote: Counting objects:  97% (45/46)\u001b[K\rremote: Counting objects: 100% (46/46)\u001b[K\rremote: Counting objects: 100% (46/46), done.\u001b[K\n",
            "remote: Compressing objects:   2% (1/34)\u001b[K\rremote: Compressing objects:   5% (2/34)\u001b[K\rremote: Compressing objects:   8% (3/34)\u001b[K\rremote: Compressing objects:  11% (4/34)\u001b[K\rremote: Compressing objects:  14% (5/34)\u001b[K\rremote: Compressing objects:  17% (6/34)\u001b[K\rremote: Compressing objects:  20% (7/34)\u001b[K\rremote: Compressing objects:  23% (8/34)\u001b[K\rremote: Compressing objects:  26% (9/34)\u001b[K\rremote: Compressing objects:  29% (10/34)\u001b[K\rremote: Compressing objects:  32% (11/34)\u001b[K\rremote: Compressing objects:  35% (12/34)\u001b[K\rremote: Compressing objects:  38% (13/34)\u001b[K\rremote: Compressing objects:  41% (14/34)\u001b[K\rremote: Compressing objects:  44% (15/34)\u001b[K\rremote: Compressing objects:  47% (16/34)\u001b[K\rremote: Compressing objects:  50% (17/34)\u001b[K\rremote: Compressing objects:  52% (18/34)\u001b[K\rremote: Compressing objects:  55% (19/34)\u001b[K\rremote: Compressing objects:  58% (20/34)\u001b[K\rremote: Compressing objects:  61% (21/34)\u001b[K\rremote: Compressing objects:  64% (22/34)\u001b[K\rremote: Compressing objects:  67% (23/34)\u001b[K\rremote: Compressing objects:  70% (24/34)\u001b[K\rremote: Compressing objects:  73% (25/34)\u001b[K\rremote: Compressing objects:  76% (26/34)\u001b[K\rremote: Compressing objects:  79% (27/34)\u001b[K\rremote: Compressing objects:  82% (28/34)\u001b[K\rremote: Compressing objects:  85% (29/34)\u001b[K\rremote: Compressing objects:  88% (30/34)\u001b[K\rremote: Compressing objects:  91% (31/34)\u001b[K\rremote: Compressing objects:  94% (32/34)\u001b[K\rremote: Compressing objects:  97% (33/34)\u001b[K\rremote: Compressing objects: 100% (34/34)\u001b[K\rremote: Compressing objects: 100% (34/34), done.\u001b[K\n",
            "Receiving objects:   2% (1/46)\rReceiving objects:   4% (2/46)\rReceiving objects:   6% (3/46)\rReceiving objects:   8% (4/46)\rReceiving objects:  10% (5/46)\rReceiving objects:  13% (6/46)\rReceiving objects:  15% (7/46)\rReceiving objects:  17% (8/46)\rReceiving objects:  19% (9/46)\rReceiving objects:  21% (10/46)\rReceiving objects:  23% (11/46)\rReceiving objects:  26% (12/46)\rReceiving objects:  28% (13/46)\rReceiving objects:  30% (14/46)\rReceiving objects:  32% (15/46)\rReceiving objects:  34% (16/46)\rReceiving objects:  36% (17/46)\rReceiving objects:  39% (18/46)\rReceiving objects:  41% (19/46)\rReceiving objects:  43% (20/46)\rReceiving objects:  45% (21/46)\rReceiving objects:  47% (22/46)\rReceiving objects:  50% (23/46)\rReceiving objects:  52% (24/46)\rReceiving objects:  54% (25/46)\rremote: Total 46 (delta 22), reused 28 (delta 11), pack-reused 0 (from 0)\u001b[K\n",
            "Receiving objects:  56% (26/46)\rReceiving objects:  58% (27/46)\rReceiving objects:  60% (28/46)\rReceiving objects:  63% (29/46)\rReceiving objects:  65% (30/46)\rReceiving objects:  67% (31/46)\rReceiving objects:  69% (32/46)\rReceiving objects:  71% (33/46)\rReceiving objects:  73% (34/46)\rReceiving objects:  76% (35/46)\rReceiving objects:  78% (36/46)\rReceiving objects:  80% (37/46)\rReceiving objects:  82% (38/46)\rReceiving objects:  84% (39/46)\rReceiving objects:  86% (40/46)\rReceiving objects:  89% (41/46)\rReceiving objects:  91% (42/46)\rReceiving objects:  93% (43/46)\rReceiving objects:  95% (44/46)\rReceiving objects:  97% (45/46)\rReceiving objects: 100% (46/46)\rReceiving objects: 100% (46/46), 619.00 KiB | 22.11 MiB/s, done.\n",
            "Resolving deltas:   0% (0/22)\rResolving deltas:   4% (1/22)\rResolving deltas:   9% (2/22)\rResolving deltas:  13% (3/22)\rResolving deltas:  18% (4/22)\rResolving deltas:  22% (5/22)\rResolving deltas:  27% (6/22)\rResolving deltas:  31% (7/22)\rResolving deltas:  36% (8/22)\rResolving deltas:  40% (9/22)\rResolving deltas:  45% (10/22)\rResolving deltas:  50% (11/22)\rResolving deltas:  54% (12/22)\rResolving deltas:  59% (13/22)\rResolving deltas:  63% (14/22)\rResolving deltas:  68% (15/22)\rResolving deltas:  72% (16/22)\rResolving deltas:  77% (17/22)\rResolving deltas:  81% (18/22)\rResolving deltas:  86% (19/22)\rResolving deltas:  90% (20/22)\rResolving deltas:  95% (21/22)\rResolving deltas: 100% (22/22)\rResolving deltas: 100% (22/22), done.\n"
          ]
        }
      ],
      "source": [
        "!git clone https://github.com/davidwcraig/munspace.git"
      ]
    },
    {
      "cell_type": "code",
      "source": [
        "import colour\n",
        "\n",
        "print(colour.__all__[:5] + ['...'])"
      ],
      "metadata": {
        "colab": {
          "base_uri": "https://localhost:8080/"
        },
        "id": "fA4NfVyf8rb0",
        "outputId": "1153eee3-e78a-402e-ed6d-21991e5b44a8"
      },
      "execution_count": 3,
      "outputs": [
        {
          "output_type": "stream",
          "name": "stdout",
          "text": [
            "['domain_range_scale', 'get_domain_range_scale', 'set_domain_range_scale', 'CHROMATIC_ADAPTATION_METHODS', 'CHROMATIC_ADAPTATION_TRANSFORMS', '...']\n"
          ]
        }
      ]
    },
    {
      "cell_type": "code",
      "source": [
        "import pandas as pd\n",
        "\n",
        "# file_path = './munspace/real_sRGB.xls'\n",
        "# df = pd.read_excel(file_path, sheet_name='data')\n",
        "\n",
        "file_path = './munspace/all.dat'\n",
        "df = pd.read_csv(file_path, delim_whitespace=True)\n"
      ],
      "metadata": {
        "colab": {
          "base_uri": "https://localhost:8080/"
        },
        "id": "H0QH5jpaUeiv",
        "outputId": "7369101b-a812-4561-fd4a-f2fc9bc5eab4"
      },
      "execution_count": 6,
      "outputs": [
        {
          "output_type": "stream",
          "name": "stderr",
          "text": [
            "<ipython-input-6-4267adc79b5c>:7: FutureWarning: The 'delim_whitespace' keyword in pd.read_csv is deprecated and will be removed in a future version. Use ``sep='\\s+'`` instead\n",
            "  df = pd.read_csv(file_path, delim_whitespace=True)\n"
          ]
        }
      ]
    },
    {
      "cell_type": "code",
      "source": [
        "'''\n",
        "       1  2  3  4  5  6  7  8  9 10 11 12 13 14 15 16 17 18 18 20 21 22 23 24 25 26 27 28 29 30 31 32 33 34 35 36 37 38 39 40\n",
        "A  0                                                                                                                           9.5\n",
        "B  0   2  2  2  2  2  2  2  2  4  6  6  6  6  4  2  2  2  2  2  2  2  2  2  2  2  2  2  2  2  2  2  2  2  2  2  2  2  2  2  2  9.0\n",
        "C  0   6  6  6  6  6  6  8 14 16 14 12 12 12 10 10  8  8  6  6  6  6  4  4  4  4  4  4  4  6  6  4  4  4  4  6  6  6  6  6  6  8.0\n",
        "D  0   8  8 10 10 10 14 14 14 12 12 12 12 12 12 10 10 10  8  8  8  8  8  6  6  6  6  6  8  8  8  6  6  6  6  8  8 10 10  8  8  7.0\n",
        "E  0  12 12 12 14 16 12 12 12 10 10 10 10 10 10 12 12 10 10 10 10  8  8  8  8  8  8  8 10 10 10  8  8  8  8 10 10 10 10 12 12  6.0\n",
        "F  0  14 14 14 16 14 12 10 10  8  8  8  8  8  8 10 12 12 10 10 10 10  8  8  8  8  8  8 10 12 12 10 10 10 10 10 12 12 12 14 14  5.0\n",
        "G  0  14 14 14 14 10  8  8  6  6  6  6  6  6  6  8  8 10 10 10 10  8  8  8  8  6  6  8  8 10 10 12 10 10 10 10 10 10 10 10 10  4.0\n",
        "H  0  10 10 12 10  8  6  6  6  4  4  4  4  4  4  6  6  8  8 10  8  6  6  6  6  6  6  6  8 10 10 12 10 10 10 10 10 10 10 10 10  3.0\n",
        "I  0   8  8  8  6  4  4  4  2  2  2  2  2  2  2  4  4  4  6  6  6  4  4  4  4  4  4  6  6  6  8 10  8  8  8  6  6  8  8  8  8  2.0\n",
        "J  0                                                                                                                           1.5\n",
        "     2.5 5 7.5 10|    5    10|    5    10|    5    10|    5    10|    5    10|    5    10|    5    10|    5    10|    5    10|\n",
        "         R       |   YR      |    Y      |    GY     |    G      |     BG    |    B      |    BP     |    P      |    RP     |\n",
        "\n",
        "Note: Munsell and WCS coordinates for stimulus palette. The leftmost column and the top row give the WCS coordinates for lightness and hue respectively.  The rightmost column and the bottom two rows give the Munsell coordinates for Value and Hue, respectively.  Entries in the body of the table show the corresponding Munsell Chroma numbers. (With regard to the A and J rows, there are no Munsell hues at the extremes of Value (lightness): 9.5 (white) and 1.5 (black).)\n",
        "'''"
      ],
      "metadata": {
        "id": "iCECk7xiU9Bk",
        "colab": {
          "base_uri": "https://localhost:8080/",
          "height": 182
        },
        "outputId": "82b33b1e-94a1-49a6-d9cd-015f791b8352"
      },
      "execution_count": 7,
      "outputs": [
        {
          "output_type": "execute_result",
          "data": {
            "text/plain": [
              "'\\n       1  2  3  4  5  6  7  8  9 10 11 12 13 14 15 16 17 18 18 20 21 22 23 24 25 26 27 28 29 30 31 32 33 34 35 36 37 38 39 40\\nA  0                                                                                                                           9.5\\nB  0   2  2  2  2  2  2  2  2  4  6  6  6  6  4  2  2  2  2  2  2  2  2  2  2  2  2  2  2  2  2  2  2  2  2  2  2  2  2  2  2  9.0\\nC  0   6  6  6  6  6  6  8 14 16 14 12 12 12 10 10  8  8  6  6  6  6  4  4  4  4  4  4  4  6  6  4  4  4  4  6  6  6  6  6  6  8.0\\nD  0   8  8 10 10 10 14 14 14 12 12 12 12 12 12 10 10 10  8  8  8  8  8  6  6  6  6  6  8  8  8  6  6  6  6  8  8 10 10  8  8  7.0\\nE  0  12 12 12 14 16 12 12 12 10 10 10 10 10 10 12 12 10 10 10 10  8  8  8  8  8  8  8 10 10 10  8  8  8  8 10 10 10 10 12 12  6.0\\nF  0  14 14 14 16 14 12 10 10  8  8  8  8  8  8 10 12 12 10 10 10 10  8  8  8  8  8  8 10 12 12 10 10 10 10 10 12 12 12 14 14  5.0\\nG  0  14 14 14 14 10  8  8  6  6  6  6  6  6  6  8  8 10 10 10 10  8  8  8  8  6  6  8  8 10 10 12 10 10 10 10 10 10 10 10 10  4.0\\nH  0  10 10 12 10  8  6  6  6  4  4  4  4  4  4  6  6  8  8 10  8  6  6  6  6  6  6  6  8 10 10 12 10 10 10 10 10 10 10 10 10  3.0\\nI  0   8  8  8  6  4  4  4  2  2  2  2  2  2  2  4  4  4  6  6  6  4  4  4  4  4  4  6  6  6  8 10  8  8  8  6  6  8  8  8  8  2.0\\nJ  0                                                                                                                           1.5\\n     2.5 5 7.5 10|    5    10|    5    10|    5    10|    5    10|    5    10|    5    10|    5    10|    5    10|    5    10|\\n         R       |   YR      |    Y      |    GY     |    G      |     BG    |    B      |    BP     |    P      |    RP     |\\n\\nNote: Munsell and WCS coordinates for stimulus palette. The leftmost column and the top row give the WCS coordinates for lightness and hue respectively.  The rightmost column and the bottom two rows give the Munsell coordinates for Value and Hue, respectively.  Entries in the body of the table show the corresponding Munsell Chroma numbers. (With regard to the A and J rows, there are no Munsell hues at the extremes of Value (lightness): 9.5 (white) and 1.5 (black).)\\n'"
            ],
            "application/vnd.google.colaboratory.intrinsic+json": {
              "type": "string"
            }
          },
          "metadata": {},
          "execution_count": 7
        }
      ]
    },
    {
      "cell_type": "code",
      "source": [
        "import numpy as np"
      ],
      "metadata": {
        "id": "rCJeUHmGWWRd"
      },
      "execution_count": 8,
      "outputs": []
    },
    {
      "cell_type": "code",
      "source": [
        "# grey_chroma = np.array([0,0,0,0,0,0,0,0,0,0])\n",
        "\n",
        "chroma = np.array([\n",
        " [ 2.,  2.,  2.,  2.,  2.,  2.,  2.,  2.,  4.,  6.,  6.,  6.,  6.,  4.,  2.,  2.,  2.,  2.,  2.,  2.,  2.,  2.,  2.,  2.,  2.,  2.,  2.,  2.,  2.,  2.,  2.,  2.,  2.,  2.,  2.,  2.,  2.,  2.,  2.,  2.],\n",
        " [ 6.,  6.,  6.,  6.,  6.,  6.,  8., 14., 16., 14., 12., 12., 12., 10., 10.,  8.,  8.,  6.,  6.,  6.,  6.,  4.,  4.,  4.,  4.,  4.,  4.,  4.,  6.,  6.,  4.,  4.,  4.,  4.,  6.,  6.,  6.,  6.,  6.,  6., ],\n",
        " [ 8.,  8., 10., 10., 10., 14., 14., 14., 12., 12., 12., 12., 12., 12., 10., 10., 10.,  8.,  8.,  8.,  8.,  8.,  6.,  6.,  6.,  6.,  6.,  8.,  8.,  8.,  6.,  6.,  6.,  6.,  8.,  8., 10., 10.,  8.,  8., ],\n",
        " [12., 12., 12., 14., 16., 12., 12., 12., 10., 10., 10., 10., 10., 10., 12., 12., 10., 10., 10., 10.,  8.,  8.,  8.,  8.,  8.,  8.,  8., 10., 10., 10.,  8.,  8.,  8.,  8., 10., 10., 10., 10., 12., 12., ],\n",
        " [14., 14., 14., 16., 14., 12., 10., 10.,  8.,  8.,  8.,  8.,  8.,  8., 10., 12., 12., 10., 10., 10., 10.,  8.,  8.,  8.,  8.,  8.,  8., 10., 12., 12., 10., 10., 10., 10., 10., 12., 12., 12., 14., 14., ],\n",
        " [14., 14., 14., 14., 10.,  8.,  8.,  6.,  6.,  6.,  6.,  6.,  6.,  6.,  8.,  8., 10., 10., 10., 10.,  8.,  8.,  8.,  8.,  6.,  6.,  8.,  8., 10., 10., 12., 10., 10., 10., 10., 10., 10., 10., 10., 10., ],\n",
        " [10., 10., 12., 10.,  8.,  6.,  6.,  6.,  4.,  4.,  4.,  4.,  4.,  4.,  6.,  6.,  8.,  8., 10.,  8.,  6.,  6.,  6.,  6.,  6.,  6.,  6.,  8., 10., 10., 12., 10., 10., 10., 10., 10., 10., 10., 10., 10., ],\n",
        " [ 8.,  8.,  8.,  6.,  4.,  4.,  4.,  2.,  2.,  2.,  2.,  2.,  2.,  2.,  4.,  4.,  4.,  6.,  6.,  6.,  4.,  4.,  4.,  4.,  4.,  4.,  6.,  6.,  6.,  8., 10.,  8.,  8.,  8.,  6.,  6.,  8.,  8.,  8.,  8., ]\n",
        "])"
      ],
      "metadata": {
        "id": "jcbuFAxeVars"
      },
      "execution_count": 9,
      "outputs": []
    },
    {
      "cell_type": "code",
      "source": [
        "hue = []\n",
        "values = [9, 8, 7, 6, 5, 4, 3, 2]\n",
        "for i in range(8):\n",
        "  value_ = values[i]\n",
        "  hue__ = []\n",
        "  for j in range(40):\n",
        "    if j < 4:\n",
        "      if j==0:\n",
        "        hue_ = '2.5'\n",
        "      elif j==1:\n",
        "        hue_ = '5'\n",
        "      elif j==2:\n",
        "        hue_ = '7.5'\n",
        "      elif j==3:\n",
        "        hue_ = '10'\n",
        "      hue_ += 'R'\n",
        "\n",
        "    elif j < 8:\n",
        "      if j < 6:\n",
        "        hue_ = '5'\n",
        "      else:\n",
        "        hue_ = '10'\n",
        "      hue_ += 'YR'\n",
        "\n",
        "    elif j < 12:\n",
        "      if j < 10:\n",
        "        hue_ = '5'\n",
        "      else:\n",
        "        hue_ = '10'\n",
        "      hue_ += 'Y'\n",
        "\n",
        "    elif j < 16:\n",
        "      if j < 14:\n",
        "        hue_ = '5'\n",
        "      else:\n",
        "        hue_ = '10'\n",
        "      hue_ += 'GY'\n",
        "\n",
        "    elif j < 20:\n",
        "      if j < 18:\n",
        "        hue_ = '5'\n",
        "      else:\n",
        "        hue_ = '10'\n",
        "      hue_ += 'G'\n",
        "\n",
        "    elif j < 24:\n",
        "      if j < 22:\n",
        "        hue_ = '5'\n",
        "      else:\n",
        "        hue_ = '10'\n",
        "      hue_ += 'BG'\n",
        "\n",
        "    elif j < 28:\n",
        "      if j < 26:\n",
        "        hue_ = '5'\n",
        "      else:\n",
        "        hue_ = '10'\n",
        "      hue_ += 'B'\n",
        "\n",
        "    elif j < 32:\n",
        "      if j < 30:\n",
        "        hue_ = '5'\n",
        "      else:\n",
        "        hue_ = '10'\n",
        "      hue_ += 'PB'\n",
        "\n",
        "    elif j < 36:\n",
        "      if j < 34:\n",
        "        hue_ = '5'\n",
        "      else:\n",
        "        hue_ = '10'\n",
        "      hue_ += 'P'\n",
        "\n",
        "    elif j < 40:\n",
        "      if j < 38:\n",
        "        hue_ = '5'\n",
        "      else:\n",
        "        hue_ = '10'\n",
        "      hue_ += 'RP'\n",
        "\n",
        "    hue__.append(hue_ + ' ' + str(value_) + ' ' + str(int(chroma[i][j])))\n",
        "  hue.append(hue__)\n",
        "  print(hue)"
      ],
      "metadata": {
        "colab": {
          "base_uri": "https://localhost:8080/"
        },
        "id": "4VSgwMe1Wsij",
        "outputId": "a3cc5c05-75b6-4264-e59d-65bc098c7b5f"
      },
      "execution_count": 10,
      "outputs": [
        {
          "output_type": "stream",
          "name": "stdout",
          "text": [
            "[['2.5R 9 2', '5R 9 2', '7.5R 9 2', '10R 9 2', '5YR 9 2', '5YR 9 2', '10YR 9 2', '10YR 9 2', '5Y 9 4', '5Y 9 6', '10Y 9 6', '10Y 9 6', '5GY 9 6', '5GY 9 4', '10GY 9 2', '10GY 9 2', '5G 9 2', '5G 9 2', '10G 9 2', '10G 9 2', '5BG 9 2', '5BG 9 2', '10BG 9 2', '10BG 9 2', '5B 9 2', '5B 9 2', '10B 9 2', '10B 9 2', '5PB 9 2', '5PB 9 2', '10PB 9 2', '10PB 9 2', '5P 9 2', '5P 9 2', '10P 9 2', '10P 9 2', '5RP 9 2', '5RP 9 2', '10RP 9 2', '10RP 9 2']]\n",
            "[['2.5R 9 2', '5R 9 2', '7.5R 9 2', '10R 9 2', '5YR 9 2', '5YR 9 2', '10YR 9 2', '10YR 9 2', '5Y 9 4', '5Y 9 6', '10Y 9 6', '10Y 9 6', '5GY 9 6', '5GY 9 4', '10GY 9 2', '10GY 9 2', '5G 9 2', '5G 9 2', '10G 9 2', '10G 9 2', '5BG 9 2', '5BG 9 2', '10BG 9 2', '10BG 9 2', '5B 9 2', '5B 9 2', '10B 9 2', '10B 9 2', '5PB 9 2', '5PB 9 2', '10PB 9 2', '10PB 9 2', '5P 9 2', '5P 9 2', '10P 9 2', '10P 9 2', '5RP 9 2', '5RP 9 2', '10RP 9 2', '10RP 9 2'], ['2.5R 8 6', '5R 8 6', '7.5R 8 6', '10R 8 6', '5YR 8 6', '5YR 8 6', '10YR 8 8', '10YR 8 14', '5Y 8 16', '5Y 8 14', '10Y 8 12', '10Y 8 12', '5GY 8 12', '5GY 8 10', '10GY 8 10', '10GY 8 8', '5G 8 8', '5G 8 6', '10G 8 6', '10G 8 6', '5BG 8 6', '5BG 8 4', '10BG 8 4', '10BG 8 4', '5B 8 4', '5B 8 4', '10B 8 4', '10B 8 4', '5PB 8 6', '5PB 8 6', '10PB 8 4', '10PB 8 4', '5P 8 4', '5P 8 4', '10P 8 6', '10P 8 6', '5RP 8 6', '5RP 8 6', '10RP 8 6', '10RP 8 6']]\n",
            "[['2.5R 9 2', '5R 9 2', '7.5R 9 2', '10R 9 2', '5YR 9 2', '5YR 9 2', '10YR 9 2', '10YR 9 2', '5Y 9 4', '5Y 9 6', '10Y 9 6', '10Y 9 6', '5GY 9 6', '5GY 9 4', '10GY 9 2', '10GY 9 2', '5G 9 2', '5G 9 2', '10G 9 2', '10G 9 2', '5BG 9 2', '5BG 9 2', '10BG 9 2', '10BG 9 2', '5B 9 2', '5B 9 2', '10B 9 2', '10B 9 2', '5PB 9 2', '5PB 9 2', '10PB 9 2', '10PB 9 2', '5P 9 2', '5P 9 2', '10P 9 2', '10P 9 2', '5RP 9 2', '5RP 9 2', '10RP 9 2', '10RP 9 2'], ['2.5R 8 6', '5R 8 6', '7.5R 8 6', '10R 8 6', '5YR 8 6', '5YR 8 6', '10YR 8 8', '10YR 8 14', '5Y 8 16', '5Y 8 14', '10Y 8 12', '10Y 8 12', '5GY 8 12', '5GY 8 10', '10GY 8 10', '10GY 8 8', '5G 8 8', '5G 8 6', '10G 8 6', '10G 8 6', '5BG 8 6', '5BG 8 4', '10BG 8 4', '10BG 8 4', '5B 8 4', '5B 8 4', '10B 8 4', '10B 8 4', '5PB 8 6', '5PB 8 6', '10PB 8 4', '10PB 8 4', '5P 8 4', '5P 8 4', '10P 8 6', '10P 8 6', '5RP 8 6', '5RP 8 6', '10RP 8 6', '10RP 8 6'], ['2.5R 7 8', '5R 7 8', '7.5R 7 10', '10R 7 10', '5YR 7 10', '5YR 7 14', '10YR 7 14', '10YR 7 14', '5Y 7 12', '5Y 7 12', '10Y 7 12', '10Y 7 12', '5GY 7 12', '5GY 7 12', '10GY 7 10', '10GY 7 10', '5G 7 10', '5G 7 8', '10G 7 8', '10G 7 8', '5BG 7 8', '5BG 7 8', '10BG 7 6', '10BG 7 6', '5B 7 6', '5B 7 6', '10B 7 6', '10B 7 8', '5PB 7 8', '5PB 7 8', '10PB 7 6', '10PB 7 6', '5P 7 6', '5P 7 6', '10P 7 8', '10P 7 8', '5RP 7 10', '5RP 7 10', '10RP 7 8', '10RP 7 8']]\n",
            "[['2.5R 9 2', '5R 9 2', '7.5R 9 2', '10R 9 2', '5YR 9 2', '5YR 9 2', '10YR 9 2', '10YR 9 2', '5Y 9 4', '5Y 9 6', '10Y 9 6', '10Y 9 6', '5GY 9 6', '5GY 9 4', '10GY 9 2', '10GY 9 2', '5G 9 2', '5G 9 2', '10G 9 2', '10G 9 2', '5BG 9 2', '5BG 9 2', '10BG 9 2', '10BG 9 2', '5B 9 2', '5B 9 2', '10B 9 2', '10B 9 2', '5PB 9 2', '5PB 9 2', '10PB 9 2', '10PB 9 2', '5P 9 2', '5P 9 2', '10P 9 2', '10P 9 2', '5RP 9 2', '5RP 9 2', '10RP 9 2', '10RP 9 2'], ['2.5R 8 6', '5R 8 6', '7.5R 8 6', '10R 8 6', '5YR 8 6', '5YR 8 6', '10YR 8 8', '10YR 8 14', '5Y 8 16', '5Y 8 14', '10Y 8 12', '10Y 8 12', '5GY 8 12', '5GY 8 10', '10GY 8 10', '10GY 8 8', '5G 8 8', '5G 8 6', '10G 8 6', '10G 8 6', '5BG 8 6', '5BG 8 4', '10BG 8 4', '10BG 8 4', '5B 8 4', '5B 8 4', '10B 8 4', '10B 8 4', '5PB 8 6', '5PB 8 6', '10PB 8 4', '10PB 8 4', '5P 8 4', '5P 8 4', '10P 8 6', '10P 8 6', '5RP 8 6', '5RP 8 6', '10RP 8 6', '10RP 8 6'], ['2.5R 7 8', '5R 7 8', '7.5R 7 10', '10R 7 10', '5YR 7 10', '5YR 7 14', '10YR 7 14', '10YR 7 14', '5Y 7 12', '5Y 7 12', '10Y 7 12', '10Y 7 12', '5GY 7 12', '5GY 7 12', '10GY 7 10', '10GY 7 10', '5G 7 10', '5G 7 8', '10G 7 8', '10G 7 8', '5BG 7 8', '5BG 7 8', '10BG 7 6', '10BG 7 6', '5B 7 6', '5B 7 6', '10B 7 6', '10B 7 8', '5PB 7 8', '5PB 7 8', '10PB 7 6', '10PB 7 6', '5P 7 6', '5P 7 6', '10P 7 8', '10P 7 8', '5RP 7 10', '5RP 7 10', '10RP 7 8', '10RP 7 8'], ['2.5R 6 12', '5R 6 12', '7.5R 6 12', '10R 6 14', '5YR 6 16', '5YR 6 12', '10YR 6 12', '10YR 6 12', '5Y 6 10', '5Y 6 10', '10Y 6 10', '10Y 6 10', '5GY 6 10', '5GY 6 10', '10GY 6 12', '10GY 6 12', '5G 6 10', '5G 6 10', '10G 6 10', '10G 6 10', '5BG 6 8', '5BG 6 8', '10BG 6 8', '10BG 6 8', '5B 6 8', '5B 6 8', '10B 6 8', '10B 6 10', '5PB 6 10', '5PB 6 10', '10PB 6 8', '10PB 6 8', '5P 6 8', '5P 6 8', '10P 6 10', '10P 6 10', '5RP 6 10', '5RP 6 10', '10RP 6 12', '10RP 6 12']]\n",
            "[['2.5R 9 2', '5R 9 2', '7.5R 9 2', '10R 9 2', '5YR 9 2', '5YR 9 2', '10YR 9 2', '10YR 9 2', '5Y 9 4', '5Y 9 6', '10Y 9 6', '10Y 9 6', '5GY 9 6', '5GY 9 4', '10GY 9 2', '10GY 9 2', '5G 9 2', '5G 9 2', '10G 9 2', '10G 9 2', '5BG 9 2', '5BG 9 2', '10BG 9 2', '10BG 9 2', '5B 9 2', '5B 9 2', '10B 9 2', '10B 9 2', '5PB 9 2', '5PB 9 2', '10PB 9 2', '10PB 9 2', '5P 9 2', '5P 9 2', '10P 9 2', '10P 9 2', '5RP 9 2', '5RP 9 2', '10RP 9 2', '10RP 9 2'], ['2.5R 8 6', '5R 8 6', '7.5R 8 6', '10R 8 6', '5YR 8 6', '5YR 8 6', '10YR 8 8', '10YR 8 14', '5Y 8 16', '5Y 8 14', '10Y 8 12', '10Y 8 12', '5GY 8 12', '5GY 8 10', '10GY 8 10', '10GY 8 8', '5G 8 8', '5G 8 6', '10G 8 6', '10G 8 6', '5BG 8 6', '5BG 8 4', '10BG 8 4', '10BG 8 4', '5B 8 4', '5B 8 4', '10B 8 4', '10B 8 4', '5PB 8 6', '5PB 8 6', '10PB 8 4', '10PB 8 4', '5P 8 4', '5P 8 4', '10P 8 6', '10P 8 6', '5RP 8 6', '5RP 8 6', '10RP 8 6', '10RP 8 6'], ['2.5R 7 8', '5R 7 8', '7.5R 7 10', '10R 7 10', '5YR 7 10', '5YR 7 14', '10YR 7 14', '10YR 7 14', '5Y 7 12', '5Y 7 12', '10Y 7 12', '10Y 7 12', '5GY 7 12', '5GY 7 12', '10GY 7 10', '10GY 7 10', '5G 7 10', '5G 7 8', '10G 7 8', '10G 7 8', '5BG 7 8', '5BG 7 8', '10BG 7 6', '10BG 7 6', '5B 7 6', '5B 7 6', '10B 7 6', '10B 7 8', '5PB 7 8', '5PB 7 8', '10PB 7 6', '10PB 7 6', '5P 7 6', '5P 7 6', '10P 7 8', '10P 7 8', '5RP 7 10', '5RP 7 10', '10RP 7 8', '10RP 7 8'], ['2.5R 6 12', '5R 6 12', '7.5R 6 12', '10R 6 14', '5YR 6 16', '5YR 6 12', '10YR 6 12', '10YR 6 12', '5Y 6 10', '5Y 6 10', '10Y 6 10', '10Y 6 10', '5GY 6 10', '5GY 6 10', '10GY 6 12', '10GY 6 12', '5G 6 10', '5G 6 10', '10G 6 10', '10G 6 10', '5BG 6 8', '5BG 6 8', '10BG 6 8', '10BG 6 8', '5B 6 8', '5B 6 8', '10B 6 8', '10B 6 10', '5PB 6 10', '5PB 6 10', '10PB 6 8', '10PB 6 8', '5P 6 8', '5P 6 8', '10P 6 10', '10P 6 10', '5RP 6 10', '5RP 6 10', '10RP 6 12', '10RP 6 12'], ['2.5R 5 14', '5R 5 14', '7.5R 5 14', '10R 5 16', '5YR 5 14', '5YR 5 12', '10YR 5 10', '10YR 5 10', '5Y 5 8', '5Y 5 8', '10Y 5 8', '10Y 5 8', '5GY 5 8', '5GY 5 8', '10GY 5 10', '10GY 5 12', '5G 5 12', '5G 5 10', '10G 5 10', '10G 5 10', '5BG 5 10', '5BG 5 8', '10BG 5 8', '10BG 5 8', '5B 5 8', '5B 5 8', '10B 5 8', '10B 5 10', '5PB 5 12', '5PB 5 12', '10PB 5 10', '10PB 5 10', '5P 5 10', '5P 5 10', '10P 5 10', '10P 5 12', '5RP 5 12', '5RP 5 12', '10RP 5 14', '10RP 5 14']]\n",
            "[['2.5R 9 2', '5R 9 2', '7.5R 9 2', '10R 9 2', '5YR 9 2', '5YR 9 2', '10YR 9 2', '10YR 9 2', '5Y 9 4', '5Y 9 6', '10Y 9 6', '10Y 9 6', '5GY 9 6', '5GY 9 4', '10GY 9 2', '10GY 9 2', '5G 9 2', '5G 9 2', '10G 9 2', '10G 9 2', '5BG 9 2', '5BG 9 2', '10BG 9 2', '10BG 9 2', '5B 9 2', '5B 9 2', '10B 9 2', '10B 9 2', '5PB 9 2', '5PB 9 2', '10PB 9 2', '10PB 9 2', '5P 9 2', '5P 9 2', '10P 9 2', '10P 9 2', '5RP 9 2', '5RP 9 2', '10RP 9 2', '10RP 9 2'], ['2.5R 8 6', '5R 8 6', '7.5R 8 6', '10R 8 6', '5YR 8 6', '5YR 8 6', '10YR 8 8', '10YR 8 14', '5Y 8 16', '5Y 8 14', '10Y 8 12', '10Y 8 12', '5GY 8 12', '5GY 8 10', '10GY 8 10', '10GY 8 8', '5G 8 8', '5G 8 6', '10G 8 6', '10G 8 6', '5BG 8 6', '5BG 8 4', '10BG 8 4', '10BG 8 4', '5B 8 4', '5B 8 4', '10B 8 4', '10B 8 4', '5PB 8 6', '5PB 8 6', '10PB 8 4', '10PB 8 4', '5P 8 4', '5P 8 4', '10P 8 6', '10P 8 6', '5RP 8 6', '5RP 8 6', '10RP 8 6', '10RP 8 6'], ['2.5R 7 8', '5R 7 8', '7.5R 7 10', '10R 7 10', '5YR 7 10', '5YR 7 14', '10YR 7 14', '10YR 7 14', '5Y 7 12', '5Y 7 12', '10Y 7 12', '10Y 7 12', '5GY 7 12', '5GY 7 12', '10GY 7 10', '10GY 7 10', '5G 7 10', '5G 7 8', '10G 7 8', '10G 7 8', '5BG 7 8', '5BG 7 8', '10BG 7 6', '10BG 7 6', '5B 7 6', '5B 7 6', '10B 7 6', '10B 7 8', '5PB 7 8', '5PB 7 8', '10PB 7 6', '10PB 7 6', '5P 7 6', '5P 7 6', '10P 7 8', '10P 7 8', '5RP 7 10', '5RP 7 10', '10RP 7 8', '10RP 7 8'], ['2.5R 6 12', '5R 6 12', '7.5R 6 12', '10R 6 14', '5YR 6 16', '5YR 6 12', '10YR 6 12', '10YR 6 12', '5Y 6 10', '5Y 6 10', '10Y 6 10', '10Y 6 10', '5GY 6 10', '5GY 6 10', '10GY 6 12', '10GY 6 12', '5G 6 10', '5G 6 10', '10G 6 10', '10G 6 10', '5BG 6 8', '5BG 6 8', '10BG 6 8', '10BG 6 8', '5B 6 8', '5B 6 8', '10B 6 8', '10B 6 10', '5PB 6 10', '5PB 6 10', '10PB 6 8', '10PB 6 8', '5P 6 8', '5P 6 8', '10P 6 10', '10P 6 10', '5RP 6 10', '5RP 6 10', '10RP 6 12', '10RP 6 12'], ['2.5R 5 14', '5R 5 14', '7.5R 5 14', '10R 5 16', '5YR 5 14', '5YR 5 12', '10YR 5 10', '10YR 5 10', '5Y 5 8', '5Y 5 8', '10Y 5 8', '10Y 5 8', '5GY 5 8', '5GY 5 8', '10GY 5 10', '10GY 5 12', '5G 5 12', '5G 5 10', '10G 5 10', '10G 5 10', '5BG 5 10', '5BG 5 8', '10BG 5 8', '10BG 5 8', '5B 5 8', '5B 5 8', '10B 5 8', '10B 5 10', '5PB 5 12', '5PB 5 12', '10PB 5 10', '10PB 5 10', '5P 5 10', '5P 5 10', '10P 5 10', '10P 5 12', '5RP 5 12', '5RP 5 12', '10RP 5 14', '10RP 5 14'], ['2.5R 4 14', '5R 4 14', '7.5R 4 14', '10R 4 14', '5YR 4 10', '5YR 4 8', '10YR 4 8', '10YR 4 6', '5Y 4 6', '5Y 4 6', '10Y 4 6', '10Y 4 6', '5GY 4 6', '5GY 4 6', '10GY 4 8', '10GY 4 8', '5G 4 10', '5G 4 10', '10G 4 10', '10G 4 10', '5BG 4 8', '5BG 4 8', '10BG 4 8', '10BG 4 8', '5B 4 6', '5B 4 6', '10B 4 8', '10B 4 8', '5PB 4 10', '5PB 4 10', '10PB 4 12', '10PB 4 10', '5P 4 10', '5P 4 10', '10P 4 10', '10P 4 10', '5RP 4 10', '5RP 4 10', '10RP 4 10', '10RP 4 10']]\n",
            "[['2.5R 9 2', '5R 9 2', '7.5R 9 2', '10R 9 2', '5YR 9 2', '5YR 9 2', '10YR 9 2', '10YR 9 2', '5Y 9 4', '5Y 9 6', '10Y 9 6', '10Y 9 6', '5GY 9 6', '5GY 9 4', '10GY 9 2', '10GY 9 2', '5G 9 2', '5G 9 2', '10G 9 2', '10G 9 2', '5BG 9 2', '5BG 9 2', '10BG 9 2', '10BG 9 2', '5B 9 2', '5B 9 2', '10B 9 2', '10B 9 2', '5PB 9 2', '5PB 9 2', '10PB 9 2', '10PB 9 2', '5P 9 2', '5P 9 2', '10P 9 2', '10P 9 2', '5RP 9 2', '5RP 9 2', '10RP 9 2', '10RP 9 2'], ['2.5R 8 6', '5R 8 6', '7.5R 8 6', '10R 8 6', '5YR 8 6', '5YR 8 6', '10YR 8 8', '10YR 8 14', '5Y 8 16', '5Y 8 14', '10Y 8 12', '10Y 8 12', '5GY 8 12', '5GY 8 10', '10GY 8 10', '10GY 8 8', '5G 8 8', '5G 8 6', '10G 8 6', '10G 8 6', '5BG 8 6', '5BG 8 4', '10BG 8 4', '10BG 8 4', '5B 8 4', '5B 8 4', '10B 8 4', '10B 8 4', '5PB 8 6', '5PB 8 6', '10PB 8 4', '10PB 8 4', '5P 8 4', '5P 8 4', '10P 8 6', '10P 8 6', '5RP 8 6', '5RP 8 6', '10RP 8 6', '10RP 8 6'], ['2.5R 7 8', '5R 7 8', '7.5R 7 10', '10R 7 10', '5YR 7 10', '5YR 7 14', '10YR 7 14', '10YR 7 14', '5Y 7 12', '5Y 7 12', '10Y 7 12', '10Y 7 12', '5GY 7 12', '5GY 7 12', '10GY 7 10', '10GY 7 10', '5G 7 10', '5G 7 8', '10G 7 8', '10G 7 8', '5BG 7 8', '5BG 7 8', '10BG 7 6', '10BG 7 6', '5B 7 6', '5B 7 6', '10B 7 6', '10B 7 8', '5PB 7 8', '5PB 7 8', '10PB 7 6', '10PB 7 6', '5P 7 6', '5P 7 6', '10P 7 8', '10P 7 8', '5RP 7 10', '5RP 7 10', '10RP 7 8', '10RP 7 8'], ['2.5R 6 12', '5R 6 12', '7.5R 6 12', '10R 6 14', '5YR 6 16', '5YR 6 12', '10YR 6 12', '10YR 6 12', '5Y 6 10', '5Y 6 10', '10Y 6 10', '10Y 6 10', '5GY 6 10', '5GY 6 10', '10GY 6 12', '10GY 6 12', '5G 6 10', '5G 6 10', '10G 6 10', '10G 6 10', '5BG 6 8', '5BG 6 8', '10BG 6 8', '10BG 6 8', '5B 6 8', '5B 6 8', '10B 6 8', '10B 6 10', '5PB 6 10', '5PB 6 10', '10PB 6 8', '10PB 6 8', '5P 6 8', '5P 6 8', '10P 6 10', '10P 6 10', '5RP 6 10', '5RP 6 10', '10RP 6 12', '10RP 6 12'], ['2.5R 5 14', '5R 5 14', '7.5R 5 14', '10R 5 16', '5YR 5 14', '5YR 5 12', '10YR 5 10', '10YR 5 10', '5Y 5 8', '5Y 5 8', '10Y 5 8', '10Y 5 8', '5GY 5 8', '5GY 5 8', '10GY 5 10', '10GY 5 12', '5G 5 12', '5G 5 10', '10G 5 10', '10G 5 10', '5BG 5 10', '5BG 5 8', '10BG 5 8', '10BG 5 8', '5B 5 8', '5B 5 8', '10B 5 8', '10B 5 10', '5PB 5 12', '5PB 5 12', '10PB 5 10', '10PB 5 10', '5P 5 10', '5P 5 10', '10P 5 10', '10P 5 12', '5RP 5 12', '5RP 5 12', '10RP 5 14', '10RP 5 14'], ['2.5R 4 14', '5R 4 14', '7.5R 4 14', '10R 4 14', '5YR 4 10', '5YR 4 8', '10YR 4 8', '10YR 4 6', '5Y 4 6', '5Y 4 6', '10Y 4 6', '10Y 4 6', '5GY 4 6', '5GY 4 6', '10GY 4 8', '10GY 4 8', '5G 4 10', '5G 4 10', '10G 4 10', '10G 4 10', '5BG 4 8', '5BG 4 8', '10BG 4 8', '10BG 4 8', '5B 4 6', '5B 4 6', '10B 4 8', '10B 4 8', '5PB 4 10', '5PB 4 10', '10PB 4 12', '10PB 4 10', '5P 4 10', '5P 4 10', '10P 4 10', '10P 4 10', '5RP 4 10', '5RP 4 10', '10RP 4 10', '10RP 4 10'], ['2.5R 3 10', '5R 3 10', '7.5R 3 12', '10R 3 10', '5YR 3 8', '5YR 3 6', '10YR 3 6', '10YR 3 6', '5Y 3 4', '5Y 3 4', '10Y 3 4', '10Y 3 4', '5GY 3 4', '5GY 3 4', '10GY 3 6', '10GY 3 6', '5G 3 8', '5G 3 8', '10G 3 10', '10G 3 8', '5BG 3 6', '5BG 3 6', '10BG 3 6', '10BG 3 6', '5B 3 6', '5B 3 6', '10B 3 6', '10B 3 8', '5PB 3 10', '5PB 3 10', '10PB 3 12', '10PB 3 10', '5P 3 10', '5P 3 10', '10P 3 10', '10P 3 10', '5RP 3 10', '5RP 3 10', '10RP 3 10', '10RP 3 10']]\n",
            "[['2.5R 9 2', '5R 9 2', '7.5R 9 2', '10R 9 2', '5YR 9 2', '5YR 9 2', '10YR 9 2', '10YR 9 2', '5Y 9 4', '5Y 9 6', '10Y 9 6', '10Y 9 6', '5GY 9 6', '5GY 9 4', '10GY 9 2', '10GY 9 2', '5G 9 2', '5G 9 2', '10G 9 2', '10G 9 2', '5BG 9 2', '5BG 9 2', '10BG 9 2', '10BG 9 2', '5B 9 2', '5B 9 2', '10B 9 2', '10B 9 2', '5PB 9 2', '5PB 9 2', '10PB 9 2', '10PB 9 2', '5P 9 2', '5P 9 2', '10P 9 2', '10P 9 2', '5RP 9 2', '5RP 9 2', '10RP 9 2', '10RP 9 2'], ['2.5R 8 6', '5R 8 6', '7.5R 8 6', '10R 8 6', '5YR 8 6', '5YR 8 6', '10YR 8 8', '10YR 8 14', '5Y 8 16', '5Y 8 14', '10Y 8 12', '10Y 8 12', '5GY 8 12', '5GY 8 10', '10GY 8 10', '10GY 8 8', '5G 8 8', '5G 8 6', '10G 8 6', '10G 8 6', '5BG 8 6', '5BG 8 4', '10BG 8 4', '10BG 8 4', '5B 8 4', '5B 8 4', '10B 8 4', '10B 8 4', '5PB 8 6', '5PB 8 6', '10PB 8 4', '10PB 8 4', '5P 8 4', '5P 8 4', '10P 8 6', '10P 8 6', '5RP 8 6', '5RP 8 6', '10RP 8 6', '10RP 8 6'], ['2.5R 7 8', '5R 7 8', '7.5R 7 10', '10R 7 10', '5YR 7 10', '5YR 7 14', '10YR 7 14', '10YR 7 14', '5Y 7 12', '5Y 7 12', '10Y 7 12', '10Y 7 12', '5GY 7 12', '5GY 7 12', '10GY 7 10', '10GY 7 10', '5G 7 10', '5G 7 8', '10G 7 8', '10G 7 8', '5BG 7 8', '5BG 7 8', '10BG 7 6', '10BG 7 6', '5B 7 6', '5B 7 6', '10B 7 6', '10B 7 8', '5PB 7 8', '5PB 7 8', '10PB 7 6', '10PB 7 6', '5P 7 6', '5P 7 6', '10P 7 8', '10P 7 8', '5RP 7 10', '5RP 7 10', '10RP 7 8', '10RP 7 8'], ['2.5R 6 12', '5R 6 12', '7.5R 6 12', '10R 6 14', '5YR 6 16', '5YR 6 12', '10YR 6 12', '10YR 6 12', '5Y 6 10', '5Y 6 10', '10Y 6 10', '10Y 6 10', '5GY 6 10', '5GY 6 10', '10GY 6 12', '10GY 6 12', '5G 6 10', '5G 6 10', '10G 6 10', '10G 6 10', '5BG 6 8', '5BG 6 8', '10BG 6 8', '10BG 6 8', '5B 6 8', '5B 6 8', '10B 6 8', '10B 6 10', '5PB 6 10', '5PB 6 10', '10PB 6 8', '10PB 6 8', '5P 6 8', '5P 6 8', '10P 6 10', '10P 6 10', '5RP 6 10', '5RP 6 10', '10RP 6 12', '10RP 6 12'], ['2.5R 5 14', '5R 5 14', '7.5R 5 14', '10R 5 16', '5YR 5 14', '5YR 5 12', '10YR 5 10', '10YR 5 10', '5Y 5 8', '5Y 5 8', '10Y 5 8', '10Y 5 8', '5GY 5 8', '5GY 5 8', '10GY 5 10', '10GY 5 12', '5G 5 12', '5G 5 10', '10G 5 10', '10G 5 10', '5BG 5 10', '5BG 5 8', '10BG 5 8', '10BG 5 8', '5B 5 8', '5B 5 8', '10B 5 8', '10B 5 10', '5PB 5 12', '5PB 5 12', '10PB 5 10', '10PB 5 10', '5P 5 10', '5P 5 10', '10P 5 10', '10P 5 12', '5RP 5 12', '5RP 5 12', '10RP 5 14', '10RP 5 14'], ['2.5R 4 14', '5R 4 14', '7.5R 4 14', '10R 4 14', '5YR 4 10', '5YR 4 8', '10YR 4 8', '10YR 4 6', '5Y 4 6', '5Y 4 6', '10Y 4 6', '10Y 4 6', '5GY 4 6', '5GY 4 6', '10GY 4 8', '10GY 4 8', '5G 4 10', '5G 4 10', '10G 4 10', '10G 4 10', '5BG 4 8', '5BG 4 8', '10BG 4 8', '10BG 4 8', '5B 4 6', '5B 4 6', '10B 4 8', '10B 4 8', '5PB 4 10', '5PB 4 10', '10PB 4 12', '10PB 4 10', '5P 4 10', '5P 4 10', '10P 4 10', '10P 4 10', '5RP 4 10', '5RP 4 10', '10RP 4 10', '10RP 4 10'], ['2.5R 3 10', '5R 3 10', '7.5R 3 12', '10R 3 10', '5YR 3 8', '5YR 3 6', '10YR 3 6', '10YR 3 6', '5Y 3 4', '5Y 3 4', '10Y 3 4', '10Y 3 4', '5GY 3 4', '5GY 3 4', '10GY 3 6', '10GY 3 6', '5G 3 8', '5G 3 8', '10G 3 10', '10G 3 8', '5BG 3 6', '5BG 3 6', '10BG 3 6', '10BG 3 6', '5B 3 6', '5B 3 6', '10B 3 6', '10B 3 8', '5PB 3 10', '5PB 3 10', '10PB 3 12', '10PB 3 10', '5P 3 10', '5P 3 10', '10P 3 10', '10P 3 10', '5RP 3 10', '5RP 3 10', '10RP 3 10', '10RP 3 10'], ['2.5R 2 8', '5R 2 8', '7.5R 2 8', '10R 2 6', '5YR 2 4', '5YR 2 4', '10YR 2 4', '10YR 2 2', '5Y 2 2', '5Y 2 2', '10Y 2 2', '10Y 2 2', '5GY 2 2', '5GY 2 2', '10GY 2 4', '10GY 2 4', '5G 2 4', '5G 2 6', '10G 2 6', '10G 2 6', '5BG 2 4', '5BG 2 4', '10BG 2 4', '10BG 2 4', '5B 2 4', '5B 2 4', '10B 2 6', '10B 2 6', '5PB 2 6', '5PB 2 8', '10PB 2 10', '10PB 2 8', '5P 2 8', '5P 2 8', '10P 2 6', '10P 2 6', '5RP 2 8', '5RP 2 8', '10RP 2 8', '10RP 2 8']]\n"
          ]
        }
      ]
    },
    {
      "cell_type": "code",
      "source": [
        "xyY_codes = []\n",
        "for i in range(8):\n",
        "  xyY_codes_ = []\n",
        "  for j in range(40):\n",
        "    Hue, Value, Chroma =hue[i][j].split(' ')\n",
        "    # find from df where column h is Hue, column V is Value, column C is Chroma\n",
        "    filtered_df = df[(df['H'] == Hue) & (df['V'] == int(Value)) & (df['C'] == int(Chroma))]\n",
        "    xyY_codes_.append([filtered_df['x'].iloc[0], filtered_df['y'].iloc[0], filtered_df['Y'].iloc[0], ])\n",
        "  xyY_codes.append(xyY_codes_)\n",
        "print(xyY_codes)\n",
        "xyY_codes=np.array(xyY_codes)"
      ],
      "metadata": {
        "colab": {
          "base_uri": "https://localhost:8080/"
        },
        "id": "U5Bm_YRl5vLy",
        "outputId": "da2a46fa-8eec-4966-9a59-17f29518e41a"
      },
      "execution_count": 11,
      "outputs": [
        {
          "output_type": "stream",
          "name": "stdout",
          "text": [
            "[[[0.32200000000000001, 0.31680000000000003, 78.659999999999997], [0.32400000000000001, 0.31879999999999997, 78.659999999999997], [0.32629999999999998, 0.32100000000000001, 78.659999999999997], [0.32840000000000003, 0.32329999999999998, 78.659999999999997], [0.33529999999999999, 0.33250000000000002, 78.659999999999997], [0.33529999999999999, 0.33250000000000002, 78.659999999999997], [0.3392, 0.34300000000000003, 78.659999999999997], [0.3392, 0.34300000000000003, 78.659999999999997], [0.36209999999999998, 0.37990000000000002, 78.659999999999997], [0.38579999999999998, 0.40710000000000002, 78.659999999999997], [0.37609999999999999, 0.41549999999999998, 78.659999999999997], [0.37609999999999999, 0.41549999999999998, 78.659999999999997], [0.35720000000000002, 0.41789999999999999, 78.659999999999997], [0.34370000000000001, 0.3861, 78.659999999999997], [0.31240000000000001, 0.34539999999999998, 78.659999999999997], [0.31240000000000001, 0.34539999999999998, 78.659999999999997], [0.30170000000000002, 0.3357, 78.659999999999997], [0.30170000000000002, 0.3357, 78.659999999999997], [0.29649999999999999, 0.32929999999999998, 78.659999999999997], [0.29649999999999999, 0.32929999999999998, 78.659999999999997], [0.29299999999999998, 0.32319999999999999, 78.659999999999997], [0.29299999999999998, 0.32319999999999999, 78.659999999999997], [0.29070000000000001, 0.31590000000000001, 78.659999999999997], [0.29070000000000001, 0.31590000000000001, 78.659999999999997], [0.29189999999999999, 0.31019999999999998, 78.659999999999997], [0.29189999999999999, 0.31019999999999998, 78.659999999999997], [0.2949, 0.30759999999999998, 78.659999999999997], [0.2949, 0.30759999999999998, 78.659999999999997], [0.29909999999999998, 0.30570000000000003, 78.659999999999997], [0.29909999999999998, 0.30570000000000003, 78.659999999999997], [0.30380000000000001, 0.3054, 78.659999999999997], [0.30380000000000001, 0.3054, 78.659999999999997], [0.30669999999999997, 0.30599999999999999, 78.659999999999997], [0.30669999999999997, 0.30599999999999999, 78.659999999999997], [0.31280000000000002, 0.30940000000000001, 78.659999999999997], [0.31280000000000002, 0.30940000000000001, 78.659999999999997], [0.31719999999999998, 0.31259999999999999, 78.659999999999997], [0.31719999999999998, 0.31259999999999999, 78.659999999999997], [0.32050000000000001, 0.3155, 78.659999999999997], [0.32050000000000001, 0.3155, 78.659999999999997]], [[0.36709999999999998, 0.3175, 59.100000000000001], [0.37430000000000002, 0.32479999999999998, 59.100000000000001], [0.38300000000000001, 0.33350000000000002, 59.100000000000001], [0.39100000000000001, 0.34420000000000001, 59.100000000000001], [0.39879999999999999, 0.36630000000000001, 59.100000000000001], [0.39879999999999999, 0.36630000000000001, 59.100000000000001], [0.42799999999999999, 0.41020000000000001, 59.100000000000001], [0.49399999999999999, 0.45300000000000001, 59.100000000000001], [0.47910000000000003, 0.50119999999999998, 59.100000000000001], [0.46989999999999998, 0.49199999999999999, 59.100000000000001], [0.43409999999999999, 0.502, 59.100000000000001], [0.43409999999999999, 0.502, 59.100000000000001], [0.39240000000000003, 0.51990000000000003, 59.100000000000001], [0.38159999999999999, 0.4879, 59.100000000000001], [0.314, 0.46010000000000001, 59.100000000000001], [0.31490000000000001, 0.4284, 59.100000000000001], [0.27229999999999999, 0.38650000000000001, 59.100000000000001], [0.28220000000000001, 0.37019999999999997, 59.100000000000001], [0.26929999999999998, 0.35120000000000001, 59.100000000000001], [0.26929999999999998, 0.35120000000000001, 59.100000000000001], [0.25879999999999997, 0.33179999999999998, 59.100000000000001], [0.2752, 0.32779999999999998, 59.100000000000001], [0.26860000000000001, 0.313, 59.100000000000001], [0.26860000000000001, 0.313, 59.100000000000001], [0.2671, 0.29980000000000001, 59.100000000000001], [0.2671, 0.29980000000000001, 59.100000000000001], [0.27179999999999999, 0.29110000000000003, 59.100000000000001], [0.27179999999999999, 0.29110000000000003, 59.100000000000001], [0.26140000000000002, 0.26700000000000002, 59.100000000000001], [0.26140000000000002, 0.26700000000000002, 59.100000000000001], [0.29110000000000003, 0.2848, 59.100000000000001], [0.29110000000000003, 0.2848, 59.100000000000001], [0.30120000000000002, 0.2868, 59.100000000000001], [0.30120000000000002, 0.2868, 59.100000000000001], [0.32129999999999997, 0.28289999999999998, 59.100000000000001], [0.32129999999999997, 0.28289999999999998, 59.100000000000001], [0.34399999999999997, 0.29780000000000001, 59.100000000000001], [0.34399999999999997, 0.29780000000000001, 59.100000000000001], [0.35999999999999999, 0.31119999999999998, 59.100000000000001], [0.35999999999999999, 0.31119999999999998, 59.100000000000001]], [[0.39610000000000001, 0.316, 43.060000000000002], [0.40670000000000001, 0.3256, 43.060000000000002], [0.44700000000000001, 0.34129999999999999, 43.060000000000002], [0.46000000000000002, 0.35959999999999998, 43.060000000000002], [0.47110000000000002, 0.3972, 43.060000000000002], [0.5252, 0.4168, 43.060000000000002], [0.50739999999999996, 0.45810000000000001, 43.060000000000002], [0.50739999999999996, 0.45810000000000001, 43.060000000000002], [0.4677, 0.48570000000000002, 43.060000000000002], [0.4677, 0.48570000000000002, 43.060000000000002], [0.442, 0.5131, 43.060000000000002], [0.442, 0.5131, 43.060000000000002], [0.39489999999999997, 0.53669999999999995, 43.060000000000002], [0.39489999999999997, 0.53669999999999995, 43.060000000000002], [0.31230000000000002, 0.47320000000000001, 43.060000000000002], [0.31230000000000002, 0.47320000000000001, 43.060000000000002], [0.25540000000000002, 0.40870000000000001, 43.060000000000002], [0.26869999999999999, 0.3901, 43.060000000000002], [0.25130000000000002, 0.36349999999999999, 43.060000000000002], [0.25130000000000002, 0.36349999999999999, 43.060000000000002], [0.2354, 0.33350000000000002, 43.060000000000002], [0.2354, 0.33350000000000002, 43.060000000000002], [0.24479999999999999, 0.30690000000000001, 43.060000000000002], [0.24479999999999999, 0.30690000000000001, 43.060000000000002], [0.24099999999999999, 0.28539999999999999, 43.060000000000002], [0.24099999999999999, 0.28539999999999999, 43.060000000000002], [0.24779999999999999, 0.27279999999999999, 43.060000000000002], [0.22770000000000001, 0.25590000000000002, 43.060000000000002], [0.2427, 0.24579999999999999, 43.060000000000002], [0.2427, 0.24579999999999999, 43.060000000000002], [0.27760000000000001, 0.26119999999999999, 43.060000000000002], [0.27760000000000001, 0.26119999999999999, 43.060000000000002], [0.29609999999999997, 0.26629999999999998, 43.060000000000002], [0.29609999999999997, 0.26629999999999998, 43.060000000000002], [0.3256, 0.26540000000000002, 43.060000000000002], [0.3256, 0.26540000000000002, 43.060000000000002], [0.37130000000000002, 0.27979999999999999, 43.060000000000002], [0.37130000000000002, 0.27979999999999999, 43.060000000000002], [0.3851, 0.30669999999999997, 43.060000000000002], [0.3851, 0.30669999999999997, 43.060000000000002]], [[0.45679999999999998, 0.30819999999999997, 30.030000000000001], [0.47599999999999998, 0.32340000000000002, 30.030000000000001], [0.49609999999999999, 0.34279999999999999, 30.030000000000001], [0.54679999999999995, 0.36969999999999997, 30.030000000000001], [0.55969999999999998, 0.4239, 30.030000000000001], [0.51990000000000003, 0.41189999999999999, 30.030000000000001], [0.505, 0.4536, 30.030000000000001], [0.505, 0.4536, 30.030000000000001], [0.46389999999999998, 0.47899999999999998, 30.030000000000001], [0.46389999999999998, 0.47899999999999998, 30.030000000000001], [0.43719999999999998, 0.50680000000000003, 30.030000000000001], [0.43719999999999998, 0.50680000000000003, 30.030000000000001], [0.3891, 0.52639999999999998, 30.030000000000001], [0.3891, 0.52639999999999998, 30.030000000000001], [0.30370000000000003, 0.53580000000000005, 30.030000000000001], [0.30370000000000003, 0.53580000000000005, 30.030000000000001], [0.24660000000000001, 0.41810000000000003, 30.030000000000001], [0.24660000000000001, 0.41810000000000003, 30.030000000000001], [0.22470000000000001, 0.37959999999999999, 30.030000000000001], [0.22470000000000001, 0.37959999999999999, 30.030000000000001], [0.22359999999999999, 0.33110000000000001, 30.030000000000001], [0.22359999999999999, 0.33110000000000001, 30.030000000000001], [0.21160000000000001, 0.29499999999999998, 30.030000000000001], [0.21160000000000001, 0.29499999999999998, 30.030000000000001], [0.20880000000000001, 0.26350000000000001, 30.030000000000001], [0.20880000000000001, 0.26350000000000001, 30.030000000000001], [0.21890000000000001, 0.24679999999999999, 30.030000000000001], [0.20000000000000001, 0.2298, 30.030000000000001], [0.21970000000000001, 0.21879999999999999, 30.030000000000001], [0.21970000000000001, 0.21879999999999999, 30.030000000000001], [0.26369999999999999, 0.23519999999999999, 30.030000000000001], [0.26369999999999999, 0.23519999999999999, 30.030000000000001], [0.29049999999999998, 0.24210000000000001, 30.030000000000001], [0.29049999999999998, 0.24210000000000001, 30.030000000000001], [0.32929999999999998, 0.245, 30.030000000000001], [0.32929999999999998, 0.245, 30.030000000000001], [0.37690000000000001, 0.27379999999999999, 30.030000000000001], [0.37690000000000001, 0.27379999999999999, 30.030000000000001], [0.436, 0.29360000000000003, 30.030000000000001], [0.436, 0.29360000000000003, 30.030000000000001]], [[0.50470000000000004, 0.29499999999999998, 19.77], [0.53410000000000002, 0.31580000000000003, 19.77], [0.55900000000000005, 0.33700000000000002, 19.77], [0.60370000000000001, 0.36570000000000003, 19.77], [0.56420000000000003, 0.42009999999999997, 19.77], [0.54220000000000002, 0.41410000000000002, 19.77], [0.50249999999999995, 0.44890000000000002, 19.77], [0.50249999999999995, 0.44890000000000002, 19.77], [0.45789999999999997, 0.46920000000000001, 19.77], [0.45789999999999997, 0.46920000000000001, 19.77], [0.43070000000000003, 0.49669999999999997, 19.77], [0.43070000000000003, 0.49669999999999997, 19.77], [0.38150000000000001, 0.50929999999999997, 19.77], [0.38150000000000001, 0.50929999999999997, 19.77], [0.30280000000000001, 0.52370000000000005, 19.77], [0.29399999999999998, 0.57509999999999994, 19.77], [0.2104, 0.45779999999999998, 19.77], [0.2329, 0.43309999999999998, 19.77], [0.20949999999999999, 0.38529999999999998, 19.77], [0.20949999999999999, 0.38529999999999998, 19.77], [0.185, 0.32800000000000001, 19.77], [0.20999999999999999, 0.32800000000000001, 19.77], [0.19700000000000001, 0.28599999999999998, 19.77], [0.19700000000000001, 0.28599999999999998, 19.77], [0.1958, 0.25190000000000001, 19.77], [0.1958, 0.25190000000000001, 19.77], [0.20669999999999999, 0.2344, 19.77], [0.186, 0.21490000000000001, 19.77], [0.1918, 0.18579999999999999, 19.77], [0.1918, 0.18579999999999999, 19.77], [0.24779999999999999, 0.20300000000000001, 19.77], [0.24779999999999999, 0.20300000000000001, 19.77], [0.28449999999999998, 0.2137, 19.77], [0.28449999999999998, 0.2137, 19.77], [0.33079999999999998, 0.23280000000000001, 19.77], [0.33350000000000002, 0.21870000000000001, 19.77], [0.4022, 0.25230000000000002, 19.77], [0.4022, 0.25230000000000002, 19.77], [0.47670000000000001, 0.27760000000000001, 19.77], [0.47670000000000001, 0.27760000000000001, 19.77]], [[0.53690000000000004, 0.28100000000000003, 12.0], [0.57340000000000002, 0.30570000000000003, 12.0], [0.59589999999999999, 0.32690000000000002, 12.0], [0.61539999999999995, 0.35680000000000001, 12.0], [0.54320000000000002, 0.40970000000000001, 12.0], [0.50700000000000001, 0.39939999999999998, 12.0], [0.4965, 0.44140000000000001, 12.0], [0.46179999999999999, 0.42130000000000001, 12.0], [0.4451, 0.45500000000000002, 12.0], [0.4451, 0.45500000000000002, 12.0], [0.41899999999999998, 0.47949999999999998, 12.0], [0.41899999999999998, 0.47949999999999998, 12.0], [0.37180000000000002, 0.48520000000000002, 12.0], [0.37180000000000002, 0.48520000000000002, 12.0], [0.30080000000000001, 0.50949999999999995, 12.0], [0.30080000000000001, 0.50949999999999995, 12.0], [0.21149999999999999, 0.45319999999999999, 12.0], [0.21149999999999999, 0.45319999999999999, 12.0], [0.18759999999999999, 0.39329999999999998, 12.0], [0.18759999999999999, 0.39329999999999998, 12.0], [0.189, 0.32340000000000002, 12.0], [0.189, 0.32340000000000002, 12.0], [0.17599999999999999, 0.27300000000000002, 12.0], [0.17599999999999999, 0.27300000000000002, 12.0], [0.20599999999999999, 0.25719999999999998, 12.0], [0.20599999999999999, 0.25719999999999998, 12.0], [0.1893, 0.216, 12.0], [0.1893, 0.216, 12.0], [0.1925, 0.18429999999999999, 12.0], [0.1925, 0.18429999999999999, 12.0], [0.2298, 0.16589999999999999, 12.0], [0.23880000000000001, 0.1837, 12.0], [0.28139999999999998, 0.19670000000000001, 12.0], [0.28139999999999998, 0.19670000000000001, 12.0], [0.3306, 0.2162, 12.0], [0.3306, 0.2162, 12.0], [0.39600000000000002, 0.24890000000000001, 12.0], [0.39600000000000002, 0.24890000000000001, 12.0], [0.45279999999999998, 0.28110000000000002, 12.0], [0.45279999999999998, 0.28110000000000002, 12.0]], [[0.51910000000000001, 0.28110000000000002, 6.5499999999999998], [0.55000000000000004, 0.3024, 6.5499999999999998], [0.61580000000000001, 0.31290000000000001, 6.5499999999999998], [0.58709999999999996, 0.34399999999999997, 6.5499999999999998], [0.54559999999999997, 0.40400000000000003, 6.5499999999999998], [0.49659999999999999, 0.39079999999999998, 6.5499999999999998], [0.48720000000000002, 0.43259999999999998, 6.5499999999999998], [0.48720000000000002, 0.43259999999999998, 6.5499999999999998], [0.41909999999999997, 0.42830000000000001, 6.5499999999999998], [0.41909999999999997, 0.42830000000000001, 6.5499999999999998], [0.39610000000000001, 0.44519999999999998, 6.5499999999999998], [0.39610000000000001, 0.44519999999999998, 6.5499999999999998], [0.35539999999999999, 0.44290000000000002, 6.5499999999999998], [0.35539999999999999, 0.44290000000000002, 6.5499999999999998], [0.29920000000000002, 0.47170000000000001, 6.5499999999999998], [0.29920000000000002, 0.47170000000000001, 6.5499999999999998], [0.2228, 0.438, 6.5499999999999998], [0.2228, 0.438, 6.5499999999999998], [0.16880000000000001, 0.39739999999999998, 6.5499999999999998], [0.19700000000000001, 0.3841, 6.5499999999999998], [0.20200000000000001, 0.31879999999999997, 6.5499999999999998], [0.20200000000000001, 0.31879999999999997, 6.5499999999999998], [0.18609999999999999, 0.2722, 6.5499999999999998], [0.18609999999999999, 0.2722, 6.5499999999999998], [0.1835, 0.23749999999999999, 6.5499999999999998], [0.1835, 0.23749999999999999, 6.5499999999999998], [0.1933, 0.21729999999999999, 6.5499999999999998], [0.1658, 0.1905, 6.5499999999999998], [0.17180000000000001, 0.15620000000000001, 6.5499999999999998], [0.17180000000000001, 0.15620000000000001, 6.5499999999999998], [0.22059999999999999, 0.14069999999999999, 6.5499999999999998], [0.2278, 0.1565, 6.5499999999999998], [0.2772, 0.17069999999999999, 6.5499999999999998], [0.2772, 0.17069999999999999, 6.5499999999999998], [0.3286, 0.18890000000000001, 6.5499999999999998], [0.3286, 0.18890000000000001, 6.5499999999999998], [0.4073, 0.2235, 6.5499999999999998], [0.4073, 0.2235, 6.5499999999999998], [0.48509999999999998, 0.26179999999999998, 6.5499999999999998], [0.48509999999999998, 0.26179999999999998, 6.5499999999999998]], [[0.47760000000000002, 0.25929999999999997, 3.1259999999999999], [0.51429999999999998, 0.28000000000000003, 3.1259999999999999], [0.54330000000000001, 0.30270000000000002, 3.1259999999999999], [0.50949999999999995, 0.33310000000000001, 3.1259999999999999], [0.46739999999999998, 0.37380000000000002, 3.1259999999999999], [0.46739999999999998, 0.37380000000000002, 3.1259999999999999], [0.46760000000000002, 0.4168, 3.1259999999999999], [0.38719999999999999, 0.36880000000000002, 3.1259999999999999], [0.37569999999999998, 0.38390000000000002, 3.1259999999999999], [0.37569999999999998, 0.38390000000000002, 3.1259999999999999], [0.35560000000000003, 0.38479999999999998, 3.1259999999999999], [0.35560000000000003, 0.38479999999999998, 3.1259999999999999], [0.33090000000000003, 0.37430000000000002, 3.1259999999999999], [0.33090000000000003, 0.37430000000000002, 3.1259999999999999], [0.29859999999999998, 0.42399999999999999, 3.1259999999999999], [0.29859999999999998, 0.42399999999999999, 3.1259999999999999], [0.26400000000000001, 0.38450000000000001, 3.1259999999999999], [0.23180000000000001, 0.42309999999999998, 3.1259999999999999], [0.2092, 0.37390000000000001, 3.1259999999999999], [0.2092, 0.37390000000000001, 3.1259999999999999], [0.22339999999999999, 0.315, 3.1259999999999999], [0.22339999999999999, 0.315, 3.1259999999999999], [0.20960000000000001, 0.27900000000000003, 3.1259999999999999], [0.20960000000000001, 0.27900000000000003, 3.1259999999999999], [0.20480000000000001, 0.25180000000000002, 3.1259999999999999], [0.20480000000000001, 0.25180000000000002, 3.1259999999999999], [0.1716, 0.19370000000000001, 3.1259999999999999], [0.1716, 0.19370000000000001, 3.1259999999999999], [0.19420000000000001, 0.18110000000000001, 3.1259999999999999], [0.16850000000000001, 0.14910000000000001, 3.1259999999999999], [0.22, 0.13300000000000001, 3.1259999999999999], [0.22939999999999999, 0.15509999999999999, 3.1259999999999999], [0.27910000000000001, 0.17069999999999999, 3.1259999999999999], [0.27910000000000001, 0.17069999999999999, 3.1259999999999999], [0.32069999999999999, 0.2132, 3.1259999999999999], [0.32069999999999999, 0.2132, 3.1259999999999999], [0.38579999999999998, 0.214, 3.1259999999999999], [0.38579999999999998, 0.214, 3.1259999999999999], [0.44280000000000003, 0.2419, 3.1259999999999999], [0.44280000000000003, 0.2419, 3.1259999999999999]]]\n"
          ]
        }
      ]
    },
    {
      "cell_type": "code",
      "source": [
        "from colour import xy_to_xyY, xyY_to_XYZ, XYZ_to_RGB, XYZ_to_sRGB\n",
        "from colour.notation import RGB_to_HEX\n",
        "from colour.models import RGB_COLOURSPACE_sRGB\n",
        "ILLUMINANT_XY = colour.CCS_ILLUMINANTS['CIE 1931 2 Degree Standard Observer']['C']\n",
        "\n",
        "colourspace = colour.RGB_COLOURSPACES['CIE RGB']\n",
        "# colourspace = colour.RGB_COLOURSPACES['PLASA ANSI E1.54']\n",
        "# colourspace = colour.RGB_COLOURSPACES['ITU-R BT.2020']\n",
        "\n",
        "\n",
        "XYZ = xyY_to_XYZ(xyY_codes)\n",
        "RGB = colour.XYZ_to_sRGB(XYZ/100, illuminant=ILLUMINANT_XY)\n",
        "RGB_codes = RGB_to_HEX(RGB)"
      ],
      "metadata": {
        "id": "iGUT8jFY_JRl"
      },
      "execution_count": 92,
      "outputs": []
    },
    {
      "cell_type": "code",
      "source": [
        "import matplotlib.pyplot as plt\n",
        "# 그림 생성\n",
        "fig, ax = plt.subplots(figsize=(20,6), dpi=80)  # figsize와 dpi 조정\n",
        "grayscale_codes = [[0,0,0],[0,0,0],[0,0,0],[0,0,0],[0,0,0],[0,0,0],[0,0,0],[0,0,0],[0,0,0],[0,0,0]]\n",
        "# 왼쪽 그레이스케일 팔레트 추가 (10행 1열)\n",
        "for i in range(len(grayscale_codes)):\n",
        "    ax.add_patch(plt.Rectangle((0, i), 1, 1, color=grayscale_codes[i], edgecolor='none'))\n",
        "\n",
        "# 오른쪽 색상 배열 추가 (8행 40열) - 한 칸 아래로 내림\n",
        "for row in range(len(RGB_codes)):\n",
        "    for col in range(len(RGB_codes[0])):\n",
        "        hex_code = RGB_codes[row][col]\n",
        "        ax.add_patch(plt.Rectangle((col + 1, row + 1), 1, 1, color=hex_code, edgecolor='none'))\n",
        "\n",
        "# 맨 위쪽 행에 'X' 표시 추가 (1열 제외)\n",
        "for col in range(1, len(RGB_codes[0]) + 1):\n",
        "    ax.add_patch(plt.Rectangle((col, 0), 1, 1, color=\"#FFFFFF\", edgecolor='none'))\n",
        "    ax.text(col + 0.5, 0.5, 'X', va='center', ha='center', fontsize=12, color='black', fontweight='bold')\n",
        "\n",
        "# 나머지 공간을 흰색으로 채우고 'X' 표시 추가\n",
        "for row in range(len(RGB_codes) + 1, len(grayscale_codes)):\n",
        "    for col in range(1, len(RGB_codes[0]) + 1):\n",
        "        ax.add_patch(plt.Rectangle((col, row), 1, 1, color=\"#FFFFFF\", edgecolor='none'))\n",
        "        ax.text(col + 0.5, row + 0.5, 'X', va='center', ha='center', fontsize=12, color='black', fontweight='bold')\n",
        "\n",
        "\n",
        "\n",
        "# 축 설정\n",
        "ax.set_xlim(0, len(RGB_codes[0]) + 1)\n",
        "ax.set_ylim(0, len(grayscale_codes))\n",
        "ax.set_xticks([])\n",
        "ax.set_yticks([])\n",
        "ax.set_aspect('equal')\n",
        "ax.invert_yaxis()\n",
        "\n",
        "plt.show()"
      ],
      "metadata": {
        "id": "7zX3YhDbcNKE",
        "colab": {
          "base_uri": "https://localhost:8080/",
          "height": 395
        },
        "outputId": "299fa43f-9a03-48ab-fcb0-4099b7fbde37"
      },
      "execution_count": 93,
      "outputs": [
        {
          "output_type": "stream",
          "name": "stderr",
          "text": [
            "<ipython-input-93-ce2e777b71bb>:7: UserWarning: Setting the 'color' property will override the edgecolor or facecolor properties.\n",
            "  ax.add_patch(plt.Rectangle((0, i), 1, 1, color=grayscale_codes[i], edgecolor='none'))\n",
            "<ipython-input-93-ce2e777b71bb>:13: UserWarning: Setting the 'color' property will override the edgecolor or facecolor properties.\n",
            "  ax.add_patch(plt.Rectangle((col + 1, row + 1), 1, 1, color=hex_code, edgecolor='none'))\n",
            "<ipython-input-93-ce2e777b71bb>:17: UserWarning: Setting the 'color' property will override the edgecolor or facecolor properties.\n",
            "  ax.add_patch(plt.Rectangle((col, 0), 1, 1, color=\"#FFFFFF\", edgecolor='none'))\n",
            "<ipython-input-93-ce2e777b71bb>:23: UserWarning: Setting the 'color' property will override the edgecolor or facecolor properties.\n",
            "  ax.add_patch(plt.Rectangle((col, row), 1, 1, color=\"#FFFFFF\", edgecolor='none'))\n"
          ]
        },
        {
          "output_type": "display_data",
          "data": {
            "text/plain": [
              "<Figure size 1600x480 with 1 Axes>"
            ],
            "image/png": "[encoded data removed]"
          },
          "metadata": {}
        }
      ]
    },
    {
      "cell_type": "code",
      "source": [
        "RGB_codes"
      ],
      "metadata": {
        "colab": {
          "base_uri": "https://localhost:8080/"
        },
        "id": "ljPjYF6QEXTf",
        "outputId": "7c7aac07-9d18-4c5e-ebd0-26173635e80c"
      },
      "execution_count": 94,
      "outputs": [
        {
          "output_type": "execute_result",
          "data": {
            "text/plain": [
              "array([['#e7d7d7', '#e8d7d5', '#e9d7d2', '#ead7d0', '#ebd7c8', '#ebd7c8',\n",
              "        '#e9d9c0', '#e9d9c0', '#e9dba1', '#efdb86', '#e3df85', '#e3df85',\n",
              "        '#d1e48a', '#d5e1a3', '#cbe1c7', '#cbe1c7', '#c4e2d0', '#c4e2d0',\n",
              "        '#c1e2d5', '#c1e2d5', '#c1e1da', '#c1e1da', '#c3e0e0', '#c3e0e0',\n",
              "        '#c8dee3', '#c8dee3', '#cedde4', '#cedde4', '#d4dbe4', '#d4dbe4',\n",
              "        '#dad9e3', '#dad9e3', '#ddd9e2', '#ddd9e2', '#e2d8de', '#e2d8de',\n",
              "        '#e5d7db', '#e5d7db', '#e6d7d8', '#e6d7d8'],\n",
              "       ['#f1b0b0', '#f2b0aa', '#f4b0a2', '#f4b199', '#eeb58a', '#eeb58a',\n",
              "        '#ecb863', '#feb200', '#e5be00', '#e4be00', '#ccc600', '#ccc600',\n",
              "        '#aacf00', '#aecd40', '#7ad570', '#8bd281', '#66d5a3', '#80d1a9',\n",
              "        '#78d1b6', '#78d1b6', '#72d0c3', '#90ccc2', '#90cbcc', '#90cbcc',\n",
              "        '#96c8d4', '#96c8d4', '#a3c5d9', '#a3c5d9', '#a4c2eb', '#a4c2eb',\n",
              "        '#bfbed8', '#bfbed8', '#c9bbd4', '#c9bbd4', '#dfb3d2', '#dfb3d2',\n",
              "        '#eab1c3', '#eab1c3', '#efb0b6', '#efb0b6'],\n",
              "       ['#e48f92', '#e6908a', '#f48976', '#f28c67', '#e8934b', '#f78c00',\n",
              "        '#e19900', '#e19900', '#c7a500', '#c7a500', '#b2ac00', '#b2ac00',\n",
              "        '#90b500', '#90b500', '#62bb5b', '#62bb5b', '#16be87', '#4fba8c',\n",
              "        '#3cba9c', '#3cba9c', '#27baad', '#27baad', '#5ab4b9', '#5ab4b9',\n",
              "        '#62b2c5', '#62b2c5', '#77aecb', '#5eb0d9', '#82a9dd', '#82a9dd',\n",
              "        '#a5a2cc', '#a5a2cc', '#b59ec5', '#b59ec5', '#cf94c0', '#cf94c0',\n",
              "        '#e88aad', '#e88aad', '#e2909a', '#e2909a'],\n",
              "       ['#e26571', '#e36664', '#e36754', '#eb632c', '#dc7100', '#d37613',\n",
              "        '#c08100', '#c08100', '#a98b00', '#a98b00', '#969200', '#969200',\n",
              "        '#799900', '#799900', '#2ba331', '#2ba331', '#00a370', '#00a370',\n",
              "        '#00a483', '#00a483', '#00a096', '#00a096', '#009ea8', '#009ea8',\n",
              "        '#009bb8', '#009bb8', '#4396c0', '#0097cc', '#5b90d0', '#5b90d0',\n",
              "        '#8d87bf', '#8d87bf', '#a281b6', '#a281b6', '#bd75ad', '#bd75ad',\n",
              "        '#cc7195', '#cc7195', '#e0667e', '#e0667e'],\n",
              "       ['#d13c58', '#d23e46', '#d24033', '#d44000', '#b95b00', '#b45e00',\n",
              "        '#a06a00', '#a06a00', '#8c7200', '#8c7200', '#7c7800', '#7c7800',\n",
              "        '#647e15', '#647e15', '#26862c', '#008915', '#008c56', '#008959',\n",
              "        '#00896c', '#00896c', '#008982', '#00867f', '#008491', '#008491',\n",
              "        '#00819f', '#00819f', '#207ca6', '#007eb3', '#2377c4', '#2377c4',\n",
              "        '#766ab1', '#766ab1', '#8f63a6', '#8f63a6', '#a35b95', '#ac549c',\n",
              "        '#be4b80', '#be4b80', '#cf3d66', '#cf3d66'],\n",
              "       ['#b51343', '#b51830', '#b31f1e', '#ae2a00', '#914800', '#8b4c19',\n",
              "        '#7f5300', '#7a551e', '#6e5a13', '#6e5a13', '#615f0f', '#615f0f',\n",
              "        '#4f631e', '#4f631e', '#1f6a26', '#1f6a26', '#006f44', '#006f44',\n",
              "        '#006f55', '#006f55', '#006c68', '#006c68', '#006b79', '#006b79',\n",
              "        '#00657c', '#00657c', '#00638e', '#00638e', '#1e5d9d', '#1e5d9d',\n",
              "        '#604da3', '#5f5198', '#77498c', '#77498c', '#89417d', '#89417d',\n",
              "        '#963b67', '#963b67', '#9d3853', '#9d3853'],\n",
              "       ['#851534', '#861728', '#8f0014', '#821f0f', '#6f3400', '#683816',\n",
              "        '#5f3d07', '#5f3d07', '#51431b', '#51431b', '#48461b', '#48461b',\n",
              "        '#3c4922', '#3c4922', '#1d4e24', '#1d4e24', '#005233', '#005233',\n",
              "        '#005540', '#005240', '#004f4d', '#004f4d', '#004e5a', '#004e5a',\n",
              "        '#004c65', '#004c65', '#00496a', '#004b77', '#004586', '#004586',\n",
              "        '#4c3289', '#4a3680', '#622d75', '#622d75', '#702468', '#702468',\n",
              "        '#7d1b54', '#7d1b54', '#84153e', '#84153e'],\n",
              "       ['#5c0d2b', '#5e0c23', '#5d0f1a', '#531c18', '#472615', '#472615',\n",
              "        '#41290b', '#392c1f', '#352e1d', '#352e1d', '#302f1f', '#302f1f',\n",
              "        '#2b3023', '#2b3023', '#19341e', '#19341e', '#0f3526', '#003823',\n",
              "        '#00382c', '#00382c', '#003534', '#003534', '#00343c', '#00343c',\n",
              "        '#003342', '#003342', '#003352', '#003352', '#0f2e54', '#002e61',\n",
              "        '#371f64', '#34235b', '#451d52', '#451d52', '#462043', '#462043',\n",
              "        '#56123e', '#56123e', '#5a0e32', '#5a0e32']], dtype=object)"
            ]
          },
          "metadata": {},
          "execution_count": 94
        }
      ]
    },
    {
      "cell_type": "code",
      "source": [],
      "metadata": {
        "id": "-ln2_dFAEZva"
      },
      "execution_count": null,
      "outputs": []
    }
  ]
}